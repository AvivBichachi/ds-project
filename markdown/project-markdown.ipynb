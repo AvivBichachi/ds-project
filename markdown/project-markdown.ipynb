{
 "cells": [
  {
   "cell_type": "markdown",
   "id": "b8c20b7f",
   "metadata": {
    "tags": []
   },
   "source": [
    "# Cryptocurrency And Tweets Analysys\n",
    "Student name: Aviv Bichachi\n",
    "\n",
    "ID: 313304412\n",
    "\n",
    "***\n",
    "\n",
    "### Table of Contents\n",
    "1. [Introduction](#introduction)\n",
    "1. [Data acquisition](#data-acquisition)\n",
    "    1. [Cryptocurrency data acquisition and processing](#cryptocurrency-data-acquisition)\n",
    "    1. [Tweets data acquisition and processing](#tweets-data-acquisition)\n",
    "1. [Data Visualizations](#data-visualization)\n",
    "\n",
    "---\n",
    "# Introduction\n",
    "In this project I try to find any correlation between twitter posts (tweets) and cryptocurrency (eg. Bitcoin, Ethereum etc..)\n",
    "\n",
    "by analyzing tweets from the top 10 Crypto-influencers on twitter [CoinCulture-Top10Influencers](https://coinculture.com/au/people/top-crypto-twitter-influencers/) and trying to find connection\n",
    "\n",
    "between after a tweet was posted and the coin value and volume changes in the market.\n",
    "\n",
    "to do so, I had  to gather information from [CoinMarketCap](https://coinmarketcap.com/) about the currency in past times\n",
    "\n",
    "and tweets from [Twitter](https://www.twitter.com/) so I can analyze them.\n",
    "\n",
    "---\n",
    "# Data acquisition\n",
    "\n",
    "### ***Cryptocurrency data acquisition***\n",
    "1. ***Scraping from [CoinMarketCap](https://coinmarketcap.com/).***\n",
    "    \n",
    "    In order to scrape data from **CoinMarketCap**, I had to watch the network of the website, and understand how it works.\n",
    "    \n",
    "    ![Coin market cap request to server.](./images/coinmarketcaprequest.PNG \"Coin market cap request to server.\")\n",
    "\n",
    "    We can see that it asks for id=1,converId=2781 and start and end times.\n",
    "    The id, represents BTC, and convertId is USD, times are from now to 365 days in the past.\n",
    "    I create a config file to represent all coins I would like to scrape:\n"
   ]
  },
  {
   "cell_type": "code",
   "execution_count": null,
   "id": "feb0f74b-eb2c-48e2-96ff-30861f82f884",
   "metadata": {},
   "outputs": [],
   "source": [
    "{\n",
    "    \"api\": {\n",
    "        \"base\": \"https://api.coinmarketcap.com/data-api/v3/cryptocurrency/historical\"\n",
    "    },\n",
    "    \"coins\": [\n",
    "        {\n",
    "            \"name\": \"Bitcoin\",\n",
    "            \"symbol\": \"BTC\",\n",
    "            \"id\": 1,\n",
    "            \"keywords\": [\n",
    "                \"bitcoin\",\n",
    "                \"btc\"\n",
    "            ]\n",
    "        },\n",
    "        {\n",
    "            \"name\": \"Ethereum\",\n",
    "            \"symbol\": \"ETH\",\n",
    "            \"id\": 1027,\n",
    "            \"keywords\": [\n",
    "                \"eth\",\n",
    "                \"ethereum\"\n",
    "            ]\n",
    "        },\n",
    "        {\n",
    "            \"name\": \"Dogecoin\",\n",
    "            \"symbol\": \"DOGE\",\n",
    "            \"id\": 74,\n",
    "            \"keywords\": [\n",
    "                \"doge\",\n",
    "                \"dogecoin\"\n",
    "            ]\n",
    "        },\n",
    "        {\n",
    "            \"name\": \"Solana\",\n",
    "            \"symbol\": \"SOL\",\n",
    "            \"id\": 5426,\n",
    "            \"keywords\": [\n",
    "                \"solana\",\n",
    "                \"metaverse\",\n",
    "                \"sol\"\n",
    "            ]\n",
    "        }\n",
    "    ]\n",
    "}"
   ]
  },
  {
   "cell_type": "markdown",
   "id": "b8ecf2fe-0d6d-431a-8523-939b06f3762e",
   "metadata": {},
   "source": [
    "In this config file I hold the API base url\n",
    "    And for each coin, I hold its name,symbol,id\n",
    "    also I store some **keywords** that are related to it and **we will use them later on**.\n",
    "* Collecting CoinMarketCap Responses:\n",
    "\n",
    "    **(crypto-data-scraping/api-scraper.py)**"
   ]
  },
  {
   "cell_type": "code",
   "execution_count": null,
   "id": "1ea8ffb9-d2b2-4af8-a202-1c74626160d8",
   "metadata": {},
   "outputs": [],
   "source": [
    "import requests\n",
    "import json\n",
    "cryptoConfig = open(\"config.json\")\n",
    "config = json.load(cryptoConfig)\n",
    "coins = config['coins']\n",
    "def constructApiUrl(coin):\n",
    "        base = config.get('api').get('base')\n",
    "        finalUrl =  f'{base}/?id={coin[\"id\"]}&convertId=2781&timeStart=1041379200&timeEnd=1642809600'\n",
    "        return finalUrl\n",
    "for coin in coins:\n",
    "    request = requests.get(constructApiUrl(coin))\n",
    "    with open(f'./responses/{coin[\"symbol\"]}.json', 'w') as f:\n",
    "        json.dump(request.json(),f)"
   ]
  },
  {
   "cell_type": "markdown",
   "id": "1fed728f-0a3d-478b-8c43-07d2fc4787de",
   "metadata": {},
   "source": [
    "    We itterate all of the coins in the config file, and form a request with \n",
    "    start and end times (timeStart,timeEnd) that represent 2013 => today (at \n",
    "    the time of writing).\n",
    "\n",
    "    Then we make a request to the server, and save all of the JSON responses \n",
    "    for later processing.\n",
    "\n",
    "each response consists of many object that hold data per day and looks \n",
    "something like that:\n",
    "\n",
    "![Coin market cap request to server.](./images/response_example.PNG \"Coin\n",
    "market cap request to server.\")\n",
    "        \n",
    "    The data we need is in \"quote\"."
   ]
  },
  {
   "cell_type": "markdown",
   "id": "49e24b7f-0627-481b-9aa2-5ea4b545b1ad",
   "metadata": {},
   "source": [
    "1. Processing CoinMarketCap Responses:"
   ]
  },
  {
   "cell_type": "code",
   "execution_count": 1,
   "id": "0d39396f-7d69-4dd8-82da-b843f93353b1",
   "metadata": {},
   "outputs": [],
   "source": [
    "def makeCsvsFromResponses(jsonFiles):\n",
    "    for file in jsonFiles:\n",
    "        data = loadJSON(file)[\"data\"]\n",
    "        #                 \"open\": 0.8320050115,\n",
    "        #                 \"high\": 1.3134865957,\n",
    "        #                 \"low\": 0.6941868976,\n",
    "        #                 \"close\": 0.9510539576,\n",
    "        #                 \"volume\": 87364276.1190757,\n",
    "        #                 \"marketCap\": 0.0,\n",
    "        #                 \"timestamp\": \"2020-04-10T23:59:59.999Z\"\n",
    "        header = ['Time', 'Open', 'High', 'Low',\n",
    "                'Close', 'Volume', 'Market Cap']\n",
    "        dataToWrite = [header]\n",
    "        with open(f'./csvs/{data[\"symbol\"]}.csv', 'w', newline='') as f:\n",
    "            writer = csv.writer(f)\n",
    "            # extract data\n",
    "            for row in data[\"quotes\"]:\n",
    "                quote = row[\"quote\"]\n",
    "                dataToWrite.append([quote[\"timestamp\"].split(\"T\")[0],\n",
    "                                    quote[\"open\"], quote[\"high\"],\n",
    "                                    quote[\"low\"], quote[\"close\"],\n",
    "                                    quote[\"volume\"], quote[\"marketCap\"]])\n",
    "            # write the data\n",
    "            writer.writerows(dataToWrite)"
   ]
  },
  {
   "cell_type": "markdown",
   "id": "e5300123-f1e8-42ed-b700-619811ce552f",
   "metadata": {},
   "source": [
    "    We itterate the response files, extract the data and create a CSV file \n",
    "    With the following columns: ***Time, Open, High, Low, Close, Volume, Market Cap.***"
   ]
  },
  {
   "cell_type": "markdown",
   "id": "c81613aa-5440-4b67-951e-e06a981c4398",
   "metadata": {},
   "source": [
    "### ***Tweets data acquisition***\n",
    "1. ***Scraping from [Twitter](https://www.twitter.com/).***\n",
    "\n",
    "    Scraping from twitter is a bit harder as they might detect scraping and block you from scraping data.\n",
    "    \n",
    "    In order to scrape from Twitter I used a library called [snscrape](https://github.com/JustAnotherArchivist/snscrape)\n",
    "    \n",
    "    **(/twitter-scraping/scrapper.py)**"
   ]
  },
  {
   "cell_type": "code",
   "execution_count": null,
   "id": "af928a4b-3584-41ae-99cf-2cc26d89cae0",
   "metadata": {},
   "outputs": [],
   "source": [
    "import snscrape.modules.twitter as sntwitter\n",
    "import pandas as pd\n",
    "import datetime\n",
    "import pytz\n",
    "utc = pytz.UTC\n",
    "# Creating list to append tweet data to\n",
    "tweets_list = []\n",
    "# defining limits\n",
    "stopdate = datetime.datetime(2013, 1, 1, tzinfo=utc)\n",
    "hard_limit = 10000\n",
    "users = [\"elonmusk\",\n",
    "        \"VitalikButerin\",\n",
    "        \"rogerkver\",\n",
    "        \"APompliano\",\n",
    "        \"brian_armstrong\",\n",
    "        \"BarrySilbert\",\n",
    "        \"aantonop\",\n",
    "        \"saylor\",\n",
    "        \"TimDraper\",\n",
    "        \"SatoshiLite\"]\n",
    "# TwitterSearchScraper\n",
    "for usertag in users:\n",
    "    print(f'scraping {usertag}')\n",
    "    for i, tweet in enumerate(sntwitter.TwitterSearchScraper(f'from:{usertag}').get_items()):\n",
    "        if tweet.date < stopdate or i > hard_limit:\n",
    "            break\n",
    "        tweets_list.append([tweet.date, tweet.user.username, tweet.content])\n",
    "    # Creating a dataframe from the tweets list above\n",
    "    tweets_df = pd.DataFrame(tweets_list, columns=[\n",
    "                            'Datetime', 'Username', 'Text'])\n",
    "    tweets_df.to_csv(f'./output/{usertag}.csv')\n",
    "    tweets_list = []"
   ]
  },
  {
   "cell_type": "markdown",
   "id": "51f21fa3-70e0-45ff-9e19-eb016bdcd9fe",
   "metadata": {},
   "source": [
    "    We itterate the influencers Twitter usertags, and collect tweets until we \n",
    "    reach the stopdate we defined or a hard limit of posts (100000 posts per user)\n",
    "    This is to minimize the risk of getting blocked by twitter.\n",
    "\n",
    "    Then we take all of the data and load it to a DataFrame and export it to CSV \n",
    "    file.\n",
    "\n",
    "    We end up with 10 CSV files with all of their posts since 2013-01-01.\n",
    "\n",
    "1. ***Data processing***\n",
    "    \n",
    "    The data processing includes few steps:\n",
    "    1. ***Finding relevant tweets:***\n",
    "        Relevant tweet means a posts is related to a coin in some way.\n",
    "        In order to find relevant tweets I filtered the tweets by the Keywords mentioned earlier at [Cryptocurrency data acquisition](#cryptocurrency-data-acquisition)\n",
    "        **(twitter-scraping/processing.py**)"
   ]
  },
  {
   "cell_type": "code",
   "execution_count": null,
   "id": "2a776599-8505-42b7-aaa6-5746a0df7ba5",
   "metadata": {},
   "outputs": [],
   "source": [
    "def getDataByKeywords():\n",
    "    '''\n",
    "    generate data by keywords for all users for all coins.\n",
    "    '''\n",
    "    coins = loadJSON('coins.json').get('coins')\n",
    "    for coin in coins:\n",
    "        symbol = coin.get('symbol')\n",
    "        createDir(f'./output/{symbol}')  # creates a dir if does not exist.\n",
    "        keywords = coin.get('keywords')\n",
    "        print(f'on coin {symbol}')\n",
    "        for user in users:\n",
    "            print(f'reading user {user}')\n",
    "            csvData = pandas.read_csv(f'./users_tweets/{user}.csv')\n",
    "            keys = str.join('|', keywords)\n",
    "            matchingData = csvData.set_index('Text').filter(\n",
    "                regex=re.compile(keys, re.IGNORECASE), axis=0)\n",
    "            print(f'writing data to file ./output/{symbol}/{user}.csv')\n",
    "            matchingData.to_csv(f'./output/{symbol}/{user}.csv')"
   ]
  },
  {
   "cell_type": "markdown",
   "id": "d1d1a5cb-dc71-4a4c-90e1-aecf93d41be6",
   "metadata": {},
   "source": [
    "For each coin and for each user we load its tweets to a dataframe, and \n",
    "look for words that can be relevant for this coin\n",
    "\n",
    "(from the config file we made before **(/twitter-scraping/coins.json)**).\n",
    "\n",
    "\n",
    "2. ***Analyzing tweets sentiments:***\n",
    "    In order to determine whether a tweet is positive \\ negative we need to \n",
    "use NLP (Natural language processing).\n",
    "\n",
    "   Following [this](https://www.pluralsight.com/guides/building-a-twitter-sentiment-analysis-in-python) article, we create a \n",
    "Machine learning model to classify the tweets we collected.\n",
    "    \n",
    "   The model (with some adjustments) will classify them to one of:\n",
    "    - Positive\n",
    "    - Negative\n",
    "    - Neutral\n",
    "    \n",
    "We will use the positive and negative tweets per day to see if we can see \n",
    "any correlation between crypto values and tweets sentiments.\n",
    "    \n",
    "running the **loadAndTrainModel** function will produce the following \n",
    "results:"
   ]
  },
  {
   "cell_type": "code",
   "execution_count": null,
   "id": "d720e342-0fc4-46e4-8d29-296370185838",
   "metadata": {},
   "outputs": [],
   "source": [
    "[NLP-MODEL] Saved model was not found, training a new one\n",
    "[NLP-MODEL] Loading tweets db\n",
    "[NLP-MODEL] removing cols\n",
    "[NLP-MODEL] Cleaning text\n",
    "[NLP-MODEL] get_feature_vector\n",
    "[NLP-MODEL] tfVector =  TfidfVectorizer(sublinear_tf=True)\n",
    "[NLP-MODEL] transform\n",
    "[NLP-MODEL] train_test_split\n",
    "[NLP-MODEL] make_pipeline\n",
    "[NLP-MODEL] scaling\n",
    "[NLP-MODEL] DONE scaling\n",
    "[NLP-MODEL] Accuracy score:  0.75805625"
   ]
  },
  {
   "cell_type": "markdown",
   "id": "b1055ba8-5af1-4bef-8c74-3a72c321d4ff",
   "metadata": {},
   "source": [
    "Scoring 75% accuracy\n",
    "\n",
    "The model uses LogisticRegression and splits the data 80% training + 20% \n",
    "testing.\n",
    "\n",
    "The data consists of 1.6m pre-classified tweets.\n",
    "\n",
    "After the model was trained, we can use it by calling the \n",
    "**getTweetSentiment** function, which cleans the tweet, and run it in the \n",
    "model.\n",
    "* Cleaning the tweet:"
   ]
  },
  {
   "cell_type": "code",
   "execution_count": 8,
   "id": "d80d7074-e0a2-4419-aa07-4fc612457214",
   "metadata": {},
   "outputs": [],
   "source": [
    "def preprocess_tweet_text(tweet):\n",
    "    tweet.lower()\n",
    "    # Remove urls\n",
    "    tweet = re.sub(r\"http\\S+|www\\S+|https\\S+\", '', tweet, flags=re.MULTILINE)\n",
    "    # Remove user @ references and '#' from tweet\n",
    "    tweet = re.sub(r'\\@\\w+|\\#', '', tweet)\n",
    "    # Remove punctuations\n",
    "    tweet = tweet.translate(str.maketrans('', '', string.punctuation))\n",
    "    # Remove stopwords\n",
    "    tweet_tokens = word_tokenize(tweet)\n",
    "    filtered_words = [w for w in tweet_tokens if not w in stop_words]\n",
    "    return \" \".join(filtered_words)"
   ]
  },
  {
   "cell_type": "markdown",
   "id": "f99bee9c-4d6e-422d-8a3c-a5c52f538cab",
   "metadata": {},
   "source": [
    "* Getting the sentiment from the model:"
   ]
  },
  {
   "cell_type": "code",
   "execution_count": 9,
   "id": "8eab4102-621f-461e-b507-dba056d1c369",
   "metadata": {},
   "outputs": [],
   "source": [
    "def getTweetSentiment(tweetText):\n",
    "    '''\n",
    "    function to get a tweet sentiment\n",
    "    '''\n",
    "    # create TextBlob object of tweet\n",
    "    cleanTweet = preprocess_tweet_text(tweetText)\n",
    "    test_feature = tf_vector.transform(np.array(cleanTweet).ravel())\n",
    "    test_prediction_lr = LR_model.predict(test_feature)\n",
    "    return int_to_string(test_prediction_lr)"
   ]
  },
  {
   "cell_type": "markdown",
   "id": "854267f0-071f-4ccc-b5f9-fe585057c2b4",
   "metadata": {},
   "source": [
    "After getting the sentiment for the tweet, we add it to the tweets CSV we made in the previous step above (Finding relevant tweets).\n",
    "\n",
    "3. ***Calculating results***:\n",
    "\n",
    "    Finally, We combine all data and find related coin data for the positive \n",
    "    and negative dates, in the results step we will not show the neutral \n",
    "    tweets as we cannot assume they will affect the coins value either way.\n",
    "    \n",
    "    By calling the **calculateDeltas(symbol, user)** function it will return \n",
    "    the deltas in volume and close-open gap within for a specific coin symbol,\n",
    "    user.\n",
    "    \n",
    "    return value is an array of \n",
    "    ```{user,date,polarity,volume,valueDelta}```\n",
    "    \n",
    "    We calculate the final results for all of the coins by calling the **calculateResultsCombined()** function:"
   ]
  },
  {
   "cell_type": "code",
   "execution_count": null,
   "id": "179b91f9-f0d9-4313-b27e-2e92f1feea26",
   "metadata": {},
   "outputs": [],
   "source": [
    "def calculateResultsCombined():\n",
    "    coins = loadJSON('coins.json').get('coins')\n",
    "    for coin in coins:\n",
    "        symbol = coin.get('symbol')\n",
    "        data = []\n",
    "        print(f'------- calculate Results on coin {symbol}-------')\n",
    "        for user in users:\n",
    "            print(f'\\treading {symbol}@{user}')\n",
    "            data += calculateDeltas(symbol, user)\n",
    "        df = pd.json_normalize(data).sort_values(by=[\"date\"])\n",
    "        df = df[df['volume'] != 0]\n",
    "        df.to_csv(f'./output/{symbol}/all_results.csv')"
   ]
  },
  {
   "cell_type": "markdown",
   "id": "8dd293eb-e0af-4fb3-a060-a32fbf7e1ebb",
   "metadata": {},
   "source": [
    "This will produce \"all_results.csv\" in every coin folder. \n",
    "\n",
    "Which includes ```user,date,tweet,polarity,valueDelta,volume,volumeDelta``` columns"
   ]
  },
  {
   "cell_type": "markdown",
   "id": "5c9f11d7",
   "metadata": {},
   "source": [
    "# Data Visualizations"
   ]
  },
  {
   "cell_type": "code",
   "execution_count": null,
   "id": "e9664ea5-d2dd-46fd-b7a6-562c241177bb",
   "metadata": {},
   "outputs": [],
   "source": [
    "import matplotlib as mpl\n",
    "from matplotlib.pyplot import figure\n",
    "import matplotlib.pyplot as plt\n",
    "import numpy as np\n",
    "import pandas as pd"
   ]
  },
  {
   "cell_type": "markdown",
   "id": "44705e12",
   "metadata": {},
   "source": [
    "Loading data is done by selectors\n",
    "\n",
    "First we select the desired coin\n",
    "\n",
    "Coin selector => (\"BTC\",\"ETH\",\"DOGE\",\"SOL\")\n",
    "\n",
    "Date selector => (\"2021\",\"2021-11\",\"2021-11-21\")\n",
    "\n",
    "(*Dates are represented in the following format : YYYY-MM-DD*)"
   ]
  },
  {
   "cell_type": "code",
   "execution_count": null,
   "id": "2bce75d0-2c52-4889-a855-e9d10ec66a00",
   "metadata": {},
   "outputs": [
    {
     "name": "stdout",
     "output_type": "stream",
     "text": [
      "jumps are  192 961\n"
     ]
    },
    {
     "data": {
      "text/plain": [
       "<matplotlib.legend.Legend at 0x1de3d953490>"
      ]
     },
     "execution_count": 3,
     "metadata": {},
     "output_type": "execute_result"
    },
    {
     "data": {
      "image/png": "[encoded data removed]",
      "text/plain": [
       "<Figure size 1080x1080 with 4 Axes>"
      ]
     },
     "metadata": {
      "needs_background": "light"
     },
     "output_type": "display_data"
    }
   ],
   "source": [
    "coin = 'BTC'\n",
    "dateSelector = \"2021-01|2021-02\"\n",
    "df = pd.read_csv(f'./output/{coin}/all_results.csv')\n",
    "df = df.sort_values(by='date', ascending=True)\n",
    "coinDataFrame = pd.read_csv(f'./coinsData/{coin}.csv')\n",
    "coinDataFrame = coinDataFrame.sort_values(by='Time', ascending=True)\n",
    "dateRange = df[df[\"date\"].str.contains(dateSelector)]\n",
    "tweetsDates = [date for date in dateRange['date']]\n",
    "coinValues = []\n",
    "coinVolumes = []\n",
    "coinValueChange = []\n",
    "\n",
    "pos_sum = []\n",
    "neg_sum = []\n",
    "for date in tweetsDates:\n",
    "    pos_sum.append(dateRange[(dateRange['polarity'] == 'Positive') & (\n",
    "        dateRange['date'] == date)].shape[0])\n",
    "    neg_sum.append(dateRange[(dateRange['polarity'] == 'Negative') & (\n",
    "        dateRange['date'] == date)].shape[0])\n",
    "    row = coinDataFrame[coinDataFrame['Time'] == date]\n",
    "    coinVolumes.append(row.Volume.ravel()[0])\n",
    "    coinValues.append(row.Close.ravel()[0])\n",
    "    coinValueChange.append(row.Close.ravel()[0]-row.Open.ravel()[0])\n",
    "figure, axis = plt.subplots(4, 1)  # Create a figure containing 3 axes.\n",
    "figure.set_figheight(15)\n",
    "figure.set_figwidth(15)\n",
    "# plt.xticks(rotation=90)\n",
    "print('jumps are ', int(len(tweetsDates)/5),len(tweetsDates))\n",
    "axis[0].plot(tweetsDates, coinValues)  # Plot some data on the axes\n",
    "axis[0].set_ylabel('Value ($)')\n",
    "axis[0].set_xlabel('Date')\n",
    "axis[0].set_xticks(tweetsDates[::int(len(tweetsDates)/5)])\n",
    "axis[0].grid(color='black', linestyle='-', linewidth=0.1)\n",
    "\n",
    "axis[1].plot(tweetsDates, coinVolumes)  # Plot some data on the axes\n",
    "axis[1].set_ylabel('Volume ($)')\n",
    "axis[1].set_xlabel('Date')\n",
    "axis[1].set_xticks(tweetsDates[::int(len(tweetsDates)/5)])\n",
    "axis[1].grid(color='black', linestyle='-', linewidth=0.1)\n",
    "\n",
    "\n",
    "\n",
    "axis[2].plot(tweetsDates, coinValueChange)  # Plot some data on the axes\n",
    "axis[2].set_ylabel('Value Change ($)')\n",
    "axis[2].set_xlabel('Date')\n",
    "axis[2].set_xticks(tweetsDates[::int(len(tweetsDates)/5)])\n",
    "axis[2].grid(color='black', linestyle='-', linewidth=0.1)\n",
    "\n",
    "labels = tweetsDates\n",
    "width = 0.35\n",
    "axis[3].bar(labels, pos_sum, width, label='Positive')\n",
    "axis[3].bar(labels, neg_sum, width, bottom=pos_sum,\n",
    "            label='Negative')\n",
    "            \n",
    "axis[3].set_ylabel('Count')\n",
    "axis[3].grid(color='black', linestyle='-', linewidth=0.1)\n",
    "axis[3].set_xlabel('Date')\n",
    "axis[3].set_xticks(tweetsDates[::int(len(tweetsDates)/5)])\n",
    "axis[3].legend()\n"
   ]
  },
  {
   "cell_type": "markdown",
   "id": "785134a0",
   "metadata": {},
   "source": []
  }
 ],
 "metadata": {
  "kernelspec": {
   "display_name": "Python 3",
   "language": "python",
   "name": "python3"
  },
  "language_info": {
   "codemirror_mode": {
    "name": "ipython",
    "version": 3
   },
   "file_extension": ".py",
   "mimetype": "text/x-python",
   "name": "python",
   "nbconvert_exporter": "python",
   "pygments_lexer": "ipython3",
   "version": "3.7.8"
  }
 },
 "nbformat": 4,
 "nbformat_minor": 5
}
